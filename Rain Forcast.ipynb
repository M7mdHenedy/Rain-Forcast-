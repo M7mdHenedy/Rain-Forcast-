{
 "cells": [
  {
   "cell_type": "code",
   "execution_count": 240,
   "id": "8c9edcc0",
   "metadata": {},
   "outputs": [],
   "source": [
    "import numpy as np\n",
    "import pandas as pd\n",
    "import matplotlib.pyplot as plt\n",
    "import seaborn as sns \n",
    "sns.set()"
   ]
  },
  {
   "cell_type": "code",
   "execution_count": 241,
   "id": "01590035",
   "metadata": {},
   "outputs": [],
   "source": [
    "pd.set_option('display.max_columns', None)\n",
    "pd.set_option('display.max_rows', None)"
   ]
  },
  {
   "cell_type": "code",
   "execution_count": 242,
   "id": "d5199a0d",
   "metadata": {},
   "outputs": [],
   "source": [
    "raw_data= pd.read_csv(r'Datasets\\weatherAUS\\weatherAUS.csv')"
   ]
  },
  {
   "cell_type": "code",
   "execution_count": 243,
   "id": "313cb20f",
   "metadata": {},
   "outputs": [
    {
     "data": {
      "text/html": [
       "<div>\n",
       "<style scoped>\n",
       "    .dataframe tbody tr th:only-of-type {\n",
       "        vertical-align: middle;\n",
       "    }\n",
       "\n",
       "    .dataframe tbody tr th {\n",
       "        vertical-align: top;\n",
       "    }\n",
       "\n",
       "    .dataframe thead th {\n",
       "        text-align: right;\n",
       "    }\n",
       "</style>\n",
       "<table border=\"1\" class=\"dataframe\">\n",
       "  <thead>\n",
       "    <tr style=\"text-align: right;\">\n",
       "      <th></th>\n",
       "      <th>Date</th>\n",
       "      <th>Location</th>\n",
       "      <th>MinTemp</th>\n",
       "      <th>MaxTemp</th>\n",
       "      <th>Rainfall</th>\n",
       "      <th>Evaporation</th>\n",
       "      <th>Sunshine</th>\n",
       "      <th>WindGustDir</th>\n",
       "      <th>WindGustSpeed</th>\n",
       "      <th>WindDir9am</th>\n",
       "      <th>WindDir3pm</th>\n",
       "      <th>WindSpeed9am</th>\n",
       "      <th>WindSpeed3pm</th>\n",
       "      <th>Humidity9am</th>\n",
       "      <th>Humidity3pm</th>\n",
       "      <th>Pressure9am</th>\n",
       "      <th>Pressure3pm</th>\n",
       "      <th>Cloud9am</th>\n",
       "      <th>Cloud3pm</th>\n",
       "      <th>Temp9am</th>\n",
       "      <th>Temp3pm</th>\n",
       "      <th>RainToday</th>\n",
       "      <th>RainTomorrow</th>\n",
       "    </tr>\n",
       "  </thead>\n",
       "  <tbody>\n",
       "    <tr>\n",
       "      <th>0</th>\n",
       "      <td>2008-12-01</td>\n",
       "      <td>Albury</td>\n",
       "      <td>13.4</td>\n",
       "      <td>22.9</td>\n",
       "      <td>0.6</td>\n",
       "      <td>NaN</td>\n",
       "      <td>NaN</td>\n",
       "      <td>W</td>\n",
       "      <td>44.0</td>\n",
       "      <td>W</td>\n",
       "      <td>WNW</td>\n",
       "      <td>20.0</td>\n",
       "      <td>24.0</td>\n",
       "      <td>71.0</td>\n",
       "      <td>22.0</td>\n",
       "      <td>1007.7</td>\n",
       "      <td>1007.1</td>\n",
       "      <td>8.0</td>\n",
       "      <td>NaN</td>\n",
       "      <td>16.9</td>\n",
       "      <td>21.8</td>\n",
       "      <td>No</td>\n",
       "      <td>No</td>\n",
       "    </tr>\n",
       "    <tr>\n",
       "      <th>1</th>\n",
       "      <td>2008-12-02</td>\n",
       "      <td>Albury</td>\n",
       "      <td>7.4</td>\n",
       "      <td>25.1</td>\n",
       "      <td>0.0</td>\n",
       "      <td>NaN</td>\n",
       "      <td>NaN</td>\n",
       "      <td>WNW</td>\n",
       "      <td>44.0</td>\n",
       "      <td>NNW</td>\n",
       "      <td>WSW</td>\n",
       "      <td>4.0</td>\n",
       "      <td>22.0</td>\n",
       "      <td>44.0</td>\n",
       "      <td>25.0</td>\n",
       "      <td>1010.6</td>\n",
       "      <td>1007.8</td>\n",
       "      <td>NaN</td>\n",
       "      <td>NaN</td>\n",
       "      <td>17.2</td>\n",
       "      <td>24.3</td>\n",
       "      <td>No</td>\n",
       "      <td>No</td>\n",
       "    </tr>\n",
       "    <tr>\n",
       "      <th>2</th>\n",
       "      <td>2008-12-03</td>\n",
       "      <td>Albury</td>\n",
       "      <td>12.9</td>\n",
       "      <td>25.7</td>\n",
       "      <td>0.0</td>\n",
       "      <td>NaN</td>\n",
       "      <td>NaN</td>\n",
       "      <td>WSW</td>\n",
       "      <td>46.0</td>\n",
       "      <td>W</td>\n",
       "      <td>WSW</td>\n",
       "      <td>19.0</td>\n",
       "      <td>26.0</td>\n",
       "      <td>38.0</td>\n",
       "      <td>30.0</td>\n",
       "      <td>1007.6</td>\n",
       "      <td>1008.7</td>\n",
       "      <td>NaN</td>\n",
       "      <td>2.0</td>\n",
       "      <td>21.0</td>\n",
       "      <td>23.2</td>\n",
       "      <td>No</td>\n",
       "      <td>No</td>\n",
       "    </tr>\n",
       "    <tr>\n",
       "      <th>3</th>\n",
       "      <td>2008-12-04</td>\n",
       "      <td>Albury</td>\n",
       "      <td>9.2</td>\n",
       "      <td>28.0</td>\n",
       "      <td>0.0</td>\n",
       "      <td>NaN</td>\n",
       "      <td>NaN</td>\n",
       "      <td>NE</td>\n",
       "      <td>24.0</td>\n",
       "      <td>SE</td>\n",
       "      <td>E</td>\n",
       "      <td>11.0</td>\n",
       "      <td>9.0</td>\n",
       "      <td>45.0</td>\n",
       "      <td>16.0</td>\n",
       "      <td>1017.6</td>\n",
       "      <td>1012.8</td>\n",
       "      <td>NaN</td>\n",
       "      <td>NaN</td>\n",
       "      <td>18.1</td>\n",
       "      <td>26.5</td>\n",
       "      <td>No</td>\n",
       "      <td>No</td>\n",
       "    </tr>\n",
       "    <tr>\n",
       "      <th>4</th>\n",
       "      <td>2008-12-05</td>\n",
       "      <td>Albury</td>\n",
       "      <td>17.5</td>\n",
       "      <td>32.3</td>\n",
       "      <td>1.0</td>\n",
       "      <td>NaN</td>\n",
       "      <td>NaN</td>\n",
       "      <td>W</td>\n",
       "      <td>41.0</td>\n",
       "      <td>ENE</td>\n",
       "      <td>NW</td>\n",
       "      <td>7.0</td>\n",
       "      <td>20.0</td>\n",
       "      <td>82.0</td>\n",
       "      <td>33.0</td>\n",
       "      <td>1010.8</td>\n",
       "      <td>1006.0</td>\n",
       "      <td>7.0</td>\n",
       "      <td>8.0</td>\n",
       "      <td>17.8</td>\n",
       "      <td>29.7</td>\n",
       "      <td>No</td>\n",
       "      <td>No</td>\n",
       "    </tr>\n",
       "  </tbody>\n",
       "</table>\n",
       "</div>"
      ],
      "text/plain": [
       "         Date Location  MinTemp  MaxTemp  Rainfall  Evaporation  Sunshine  \\\n",
       "0  2008-12-01   Albury     13.4     22.9       0.6          NaN       NaN   \n",
       "1  2008-12-02   Albury      7.4     25.1       0.0          NaN       NaN   \n",
       "2  2008-12-03   Albury     12.9     25.7       0.0          NaN       NaN   \n",
       "3  2008-12-04   Albury      9.2     28.0       0.0          NaN       NaN   \n",
       "4  2008-12-05   Albury     17.5     32.3       1.0          NaN       NaN   \n",
       "\n",
       "  WindGustDir  WindGustSpeed WindDir9am WindDir3pm  WindSpeed9am  \\\n",
       "0           W           44.0          W        WNW          20.0   \n",
       "1         WNW           44.0        NNW        WSW           4.0   \n",
       "2         WSW           46.0          W        WSW          19.0   \n",
       "3          NE           24.0         SE          E          11.0   \n",
       "4           W           41.0        ENE         NW           7.0   \n",
       "\n",
       "   WindSpeed3pm  Humidity9am  Humidity3pm  Pressure9am  Pressure3pm  Cloud9am  \\\n",
       "0          24.0         71.0         22.0       1007.7       1007.1       8.0   \n",
       "1          22.0         44.0         25.0       1010.6       1007.8       NaN   \n",
       "2          26.0         38.0         30.0       1007.6       1008.7       NaN   \n",
       "3           9.0         45.0         16.0       1017.6       1012.8       NaN   \n",
       "4          20.0         82.0         33.0       1010.8       1006.0       7.0   \n",
       "\n",
       "   Cloud3pm  Temp9am  Temp3pm RainToday RainTomorrow  \n",
       "0       NaN     16.9     21.8        No           No  \n",
       "1       NaN     17.2     24.3        No           No  \n",
       "2       2.0     21.0     23.2        No           No  \n",
       "3       NaN     18.1     26.5        No           No  \n",
       "4       8.0     17.8     29.7        No           No  "
      ]
     },
     "execution_count": 243,
     "metadata": {},
     "output_type": "execute_result"
    }
   ],
   "source": [
    "raw_data.head()"
   ]
  },
  {
   "cell_type": "code",
   "execution_count": 244,
   "id": "ebfe6e3b",
   "metadata": {},
   "outputs": [
    {
     "name": "stdout",
     "output_type": "stream",
     "text": [
      "<class 'pandas.core.frame.DataFrame'>\n",
      "RangeIndex: 145460 entries, 0 to 145459\n",
      "Data columns (total 23 columns):\n",
      " #   Column         Non-Null Count   Dtype  \n",
      "---  ------         --------------   -----  \n",
      " 0   Date           145460 non-null  object \n",
      " 1   Location       145460 non-null  object \n",
      " 2   MinTemp        143975 non-null  float64\n",
      " 3   MaxTemp        144199 non-null  float64\n",
      " 4   Rainfall       142199 non-null  float64\n",
      " 5   Evaporation    82670 non-null   float64\n",
      " 6   Sunshine       75625 non-null   float64\n",
      " 7   WindGustDir    135134 non-null  object \n",
      " 8   WindGustSpeed  135197 non-null  float64\n",
      " 9   WindDir9am     134894 non-null  object \n",
      " 10  WindDir3pm     141232 non-null  object \n",
      " 11  WindSpeed9am   143693 non-null  float64\n",
      " 12  WindSpeed3pm   142398 non-null  float64\n",
      " 13  Humidity9am    142806 non-null  float64\n",
      " 14  Humidity3pm    140953 non-null  float64\n",
      " 15  Pressure9am    130395 non-null  float64\n",
      " 16  Pressure3pm    130432 non-null  float64\n",
      " 17  Cloud9am       89572 non-null   float64\n",
      " 18  Cloud3pm       86102 non-null   float64\n",
      " 19  Temp9am        143693 non-null  float64\n",
      " 20  Temp3pm        141851 non-null  float64\n",
      " 21  RainToday      142199 non-null  object \n",
      " 22  RainTomorrow   142193 non-null  object \n",
      "dtypes: float64(16), object(7)\n",
      "memory usage: 25.5+ MB\n"
     ]
    }
   ],
   "source": [
    "raw_data.info()"
   ]
  },
  {
   "cell_type": "code",
   "execution_count": 245,
   "id": "c4160ef2",
   "metadata": {},
   "outputs": [
    {
     "data": {
      "text/html": [
       "<div>\n",
       "<style scoped>\n",
       "    .dataframe tbody tr th:only-of-type {\n",
       "        vertical-align: middle;\n",
       "    }\n",
       "\n",
       "    .dataframe tbody tr th {\n",
       "        vertical-align: top;\n",
       "    }\n",
       "\n",
       "    .dataframe thead th {\n",
       "        text-align: right;\n",
       "    }\n",
       "</style>\n",
       "<table border=\"1\" class=\"dataframe\">\n",
       "  <thead>\n",
       "    <tr style=\"text-align: right;\">\n",
       "      <th></th>\n",
       "      <th>Date</th>\n",
       "      <th>Location</th>\n",
       "      <th>MinTemp</th>\n",
       "      <th>MaxTemp</th>\n",
       "      <th>Rainfall</th>\n",
       "      <th>Evaporation</th>\n",
       "      <th>Sunshine</th>\n",
       "      <th>WindGustDir</th>\n",
       "      <th>WindGustSpeed</th>\n",
       "      <th>WindDir9am</th>\n",
       "      <th>WindDir3pm</th>\n",
       "      <th>WindSpeed9am</th>\n",
       "      <th>WindSpeed3pm</th>\n",
       "      <th>Humidity9am</th>\n",
       "      <th>Humidity3pm</th>\n",
       "      <th>Pressure9am</th>\n",
       "      <th>Pressure3pm</th>\n",
       "      <th>Cloud9am</th>\n",
       "      <th>Cloud3pm</th>\n",
       "      <th>Temp9am</th>\n",
       "      <th>Temp3pm</th>\n",
       "      <th>RainToday</th>\n",
       "      <th>RainTomorrow</th>\n",
       "    </tr>\n",
       "  </thead>\n",
       "  <tbody>\n",
       "    <tr>\n",
       "      <th>count</th>\n",
       "      <td>145460</td>\n",
       "      <td>145460</td>\n",
       "      <td>143975.000000</td>\n",
       "      <td>144199.000000</td>\n",
       "      <td>142199.000000</td>\n",
       "      <td>82670.000000</td>\n",
       "      <td>75625.000000</td>\n",
       "      <td>135134</td>\n",
       "      <td>135197.000000</td>\n",
       "      <td>134894</td>\n",
       "      <td>141232</td>\n",
       "      <td>143693.000000</td>\n",
       "      <td>142398.000000</td>\n",
       "      <td>142806.000000</td>\n",
       "      <td>140953.000000</td>\n",
       "      <td>130395.00000</td>\n",
       "      <td>130432.000000</td>\n",
       "      <td>89572.000000</td>\n",
       "      <td>86102.000000</td>\n",
       "      <td>143693.000000</td>\n",
       "      <td>141851.00000</td>\n",
       "      <td>142199</td>\n",
       "      <td>142193</td>\n",
       "    </tr>\n",
       "    <tr>\n",
       "      <th>unique</th>\n",
       "      <td>3436</td>\n",
       "      <td>49</td>\n",
       "      <td>NaN</td>\n",
       "      <td>NaN</td>\n",
       "      <td>NaN</td>\n",
       "      <td>NaN</td>\n",
       "      <td>NaN</td>\n",
       "      <td>16</td>\n",
       "      <td>NaN</td>\n",
       "      <td>16</td>\n",
       "      <td>16</td>\n",
       "      <td>NaN</td>\n",
       "      <td>NaN</td>\n",
       "      <td>NaN</td>\n",
       "      <td>NaN</td>\n",
       "      <td>NaN</td>\n",
       "      <td>NaN</td>\n",
       "      <td>NaN</td>\n",
       "      <td>NaN</td>\n",
       "      <td>NaN</td>\n",
       "      <td>NaN</td>\n",
       "      <td>2</td>\n",
       "      <td>2</td>\n",
       "    </tr>\n",
       "    <tr>\n",
       "      <th>top</th>\n",
       "      <td>2014-10-14</td>\n",
       "      <td>Canberra</td>\n",
       "      <td>NaN</td>\n",
       "      <td>NaN</td>\n",
       "      <td>NaN</td>\n",
       "      <td>NaN</td>\n",
       "      <td>NaN</td>\n",
       "      <td>W</td>\n",
       "      <td>NaN</td>\n",
       "      <td>N</td>\n",
       "      <td>SE</td>\n",
       "      <td>NaN</td>\n",
       "      <td>NaN</td>\n",
       "      <td>NaN</td>\n",
       "      <td>NaN</td>\n",
       "      <td>NaN</td>\n",
       "      <td>NaN</td>\n",
       "      <td>NaN</td>\n",
       "      <td>NaN</td>\n",
       "      <td>NaN</td>\n",
       "      <td>NaN</td>\n",
       "      <td>No</td>\n",
       "      <td>No</td>\n",
       "    </tr>\n",
       "    <tr>\n",
       "      <th>freq</th>\n",
       "      <td>49</td>\n",
       "      <td>3436</td>\n",
       "      <td>NaN</td>\n",
       "      <td>NaN</td>\n",
       "      <td>NaN</td>\n",
       "      <td>NaN</td>\n",
       "      <td>NaN</td>\n",
       "      <td>9915</td>\n",
       "      <td>NaN</td>\n",
       "      <td>11758</td>\n",
       "      <td>10838</td>\n",
       "      <td>NaN</td>\n",
       "      <td>NaN</td>\n",
       "      <td>NaN</td>\n",
       "      <td>NaN</td>\n",
       "      <td>NaN</td>\n",
       "      <td>NaN</td>\n",
       "      <td>NaN</td>\n",
       "      <td>NaN</td>\n",
       "      <td>NaN</td>\n",
       "      <td>NaN</td>\n",
       "      <td>110319</td>\n",
       "      <td>110316</td>\n",
       "    </tr>\n",
       "    <tr>\n",
       "      <th>mean</th>\n",
       "      <td>NaN</td>\n",
       "      <td>NaN</td>\n",
       "      <td>12.194034</td>\n",
       "      <td>23.221348</td>\n",
       "      <td>2.360918</td>\n",
       "      <td>5.468232</td>\n",
       "      <td>7.611178</td>\n",
       "      <td>NaN</td>\n",
       "      <td>40.035230</td>\n",
       "      <td>NaN</td>\n",
       "      <td>NaN</td>\n",
       "      <td>14.043426</td>\n",
       "      <td>18.662657</td>\n",
       "      <td>68.880831</td>\n",
       "      <td>51.539116</td>\n",
       "      <td>1017.64994</td>\n",
       "      <td>1015.255889</td>\n",
       "      <td>4.447461</td>\n",
       "      <td>4.509930</td>\n",
       "      <td>16.990631</td>\n",
       "      <td>21.68339</td>\n",
       "      <td>NaN</td>\n",
       "      <td>NaN</td>\n",
       "    </tr>\n",
       "    <tr>\n",
       "      <th>std</th>\n",
       "      <td>NaN</td>\n",
       "      <td>NaN</td>\n",
       "      <td>6.398495</td>\n",
       "      <td>7.119049</td>\n",
       "      <td>8.478060</td>\n",
       "      <td>4.193704</td>\n",
       "      <td>3.785483</td>\n",
       "      <td>NaN</td>\n",
       "      <td>13.607062</td>\n",
       "      <td>NaN</td>\n",
       "      <td>NaN</td>\n",
       "      <td>8.915375</td>\n",
       "      <td>8.809800</td>\n",
       "      <td>19.029164</td>\n",
       "      <td>20.795902</td>\n",
       "      <td>7.10653</td>\n",
       "      <td>7.037414</td>\n",
       "      <td>2.887159</td>\n",
       "      <td>2.720357</td>\n",
       "      <td>6.488753</td>\n",
       "      <td>6.93665</td>\n",
       "      <td>NaN</td>\n",
       "      <td>NaN</td>\n",
       "    </tr>\n",
       "    <tr>\n",
       "      <th>min</th>\n",
       "      <td>NaN</td>\n",
       "      <td>NaN</td>\n",
       "      <td>-8.500000</td>\n",
       "      <td>-4.800000</td>\n",
       "      <td>0.000000</td>\n",
       "      <td>0.000000</td>\n",
       "      <td>0.000000</td>\n",
       "      <td>NaN</td>\n",
       "      <td>6.000000</td>\n",
       "      <td>NaN</td>\n",
       "      <td>NaN</td>\n",
       "      <td>0.000000</td>\n",
       "      <td>0.000000</td>\n",
       "      <td>0.000000</td>\n",
       "      <td>0.000000</td>\n",
       "      <td>980.50000</td>\n",
       "      <td>977.100000</td>\n",
       "      <td>0.000000</td>\n",
       "      <td>0.000000</td>\n",
       "      <td>-7.200000</td>\n",
       "      <td>-5.40000</td>\n",
       "      <td>NaN</td>\n",
       "      <td>NaN</td>\n",
       "    </tr>\n",
       "    <tr>\n",
       "      <th>25%</th>\n",
       "      <td>NaN</td>\n",
       "      <td>NaN</td>\n",
       "      <td>7.600000</td>\n",
       "      <td>17.900000</td>\n",
       "      <td>0.000000</td>\n",
       "      <td>2.600000</td>\n",
       "      <td>4.800000</td>\n",
       "      <td>NaN</td>\n",
       "      <td>31.000000</td>\n",
       "      <td>NaN</td>\n",
       "      <td>NaN</td>\n",
       "      <td>7.000000</td>\n",
       "      <td>13.000000</td>\n",
       "      <td>57.000000</td>\n",
       "      <td>37.000000</td>\n",
       "      <td>1012.90000</td>\n",
       "      <td>1010.400000</td>\n",
       "      <td>1.000000</td>\n",
       "      <td>2.000000</td>\n",
       "      <td>12.300000</td>\n",
       "      <td>16.60000</td>\n",
       "      <td>NaN</td>\n",
       "      <td>NaN</td>\n",
       "    </tr>\n",
       "    <tr>\n",
       "      <th>50%</th>\n",
       "      <td>NaN</td>\n",
       "      <td>NaN</td>\n",
       "      <td>12.000000</td>\n",
       "      <td>22.600000</td>\n",
       "      <td>0.000000</td>\n",
       "      <td>4.800000</td>\n",
       "      <td>8.400000</td>\n",
       "      <td>NaN</td>\n",
       "      <td>39.000000</td>\n",
       "      <td>NaN</td>\n",
       "      <td>NaN</td>\n",
       "      <td>13.000000</td>\n",
       "      <td>19.000000</td>\n",
       "      <td>70.000000</td>\n",
       "      <td>52.000000</td>\n",
       "      <td>1017.60000</td>\n",
       "      <td>1015.200000</td>\n",
       "      <td>5.000000</td>\n",
       "      <td>5.000000</td>\n",
       "      <td>16.700000</td>\n",
       "      <td>21.10000</td>\n",
       "      <td>NaN</td>\n",
       "      <td>NaN</td>\n",
       "    </tr>\n",
       "    <tr>\n",
       "      <th>75%</th>\n",
       "      <td>NaN</td>\n",
       "      <td>NaN</td>\n",
       "      <td>16.900000</td>\n",
       "      <td>28.200000</td>\n",
       "      <td>0.800000</td>\n",
       "      <td>7.400000</td>\n",
       "      <td>10.600000</td>\n",
       "      <td>NaN</td>\n",
       "      <td>48.000000</td>\n",
       "      <td>NaN</td>\n",
       "      <td>NaN</td>\n",
       "      <td>19.000000</td>\n",
       "      <td>24.000000</td>\n",
       "      <td>83.000000</td>\n",
       "      <td>66.000000</td>\n",
       "      <td>1022.40000</td>\n",
       "      <td>1020.000000</td>\n",
       "      <td>7.000000</td>\n",
       "      <td>7.000000</td>\n",
       "      <td>21.600000</td>\n",
       "      <td>26.40000</td>\n",
       "      <td>NaN</td>\n",
       "      <td>NaN</td>\n",
       "    </tr>\n",
       "    <tr>\n",
       "      <th>max</th>\n",
       "      <td>NaN</td>\n",
       "      <td>NaN</td>\n",
       "      <td>33.900000</td>\n",
       "      <td>48.100000</td>\n",
       "      <td>371.000000</td>\n",
       "      <td>145.000000</td>\n",
       "      <td>14.500000</td>\n",
       "      <td>NaN</td>\n",
       "      <td>135.000000</td>\n",
       "      <td>NaN</td>\n",
       "      <td>NaN</td>\n",
       "      <td>130.000000</td>\n",
       "      <td>87.000000</td>\n",
       "      <td>100.000000</td>\n",
       "      <td>100.000000</td>\n",
       "      <td>1041.00000</td>\n",
       "      <td>1039.600000</td>\n",
       "      <td>9.000000</td>\n",
       "      <td>9.000000</td>\n",
       "      <td>40.200000</td>\n",
       "      <td>46.70000</td>\n",
       "      <td>NaN</td>\n",
       "      <td>NaN</td>\n",
       "    </tr>\n",
       "  </tbody>\n",
       "</table>\n",
       "</div>"
      ],
      "text/plain": [
       "              Date  Location        MinTemp        MaxTemp       Rainfall  \\\n",
       "count       145460    145460  143975.000000  144199.000000  142199.000000   \n",
       "unique        3436        49            NaN            NaN            NaN   \n",
       "top     2014-10-14  Canberra            NaN            NaN            NaN   \n",
       "freq            49      3436            NaN            NaN            NaN   \n",
       "mean           NaN       NaN      12.194034      23.221348       2.360918   \n",
       "std            NaN       NaN       6.398495       7.119049       8.478060   \n",
       "min            NaN       NaN      -8.500000      -4.800000       0.000000   \n",
       "25%            NaN       NaN       7.600000      17.900000       0.000000   \n",
       "50%            NaN       NaN      12.000000      22.600000       0.000000   \n",
       "75%            NaN       NaN      16.900000      28.200000       0.800000   \n",
       "max            NaN       NaN      33.900000      48.100000     371.000000   \n",
       "\n",
       "         Evaporation      Sunshine WindGustDir  WindGustSpeed WindDir9am  \\\n",
       "count   82670.000000  75625.000000      135134  135197.000000     134894   \n",
       "unique           NaN           NaN          16            NaN         16   \n",
       "top              NaN           NaN           W            NaN          N   \n",
       "freq             NaN           NaN        9915            NaN      11758   \n",
       "mean        5.468232      7.611178         NaN      40.035230        NaN   \n",
       "std         4.193704      3.785483         NaN      13.607062        NaN   \n",
       "min         0.000000      0.000000         NaN       6.000000        NaN   \n",
       "25%         2.600000      4.800000         NaN      31.000000        NaN   \n",
       "50%         4.800000      8.400000         NaN      39.000000        NaN   \n",
       "75%         7.400000     10.600000         NaN      48.000000        NaN   \n",
       "max       145.000000     14.500000         NaN     135.000000        NaN   \n",
       "\n",
       "       WindDir3pm   WindSpeed9am   WindSpeed3pm    Humidity9am    Humidity3pm  \\\n",
       "count      141232  143693.000000  142398.000000  142806.000000  140953.000000   \n",
       "unique         16            NaN            NaN            NaN            NaN   \n",
       "top            SE            NaN            NaN            NaN            NaN   \n",
       "freq        10838            NaN            NaN            NaN            NaN   \n",
       "mean          NaN      14.043426      18.662657      68.880831      51.539116   \n",
       "std           NaN       8.915375       8.809800      19.029164      20.795902   \n",
       "min           NaN       0.000000       0.000000       0.000000       0.000000   \n",
       "25%           NaN       7.000000      13.000000      57.000000      37.000000   \n",
       "50%           NaN      13.000000      19.000000      70.000000      52.000000   \n",
       "75%           NaN      19.000000      24.000000      83.000000      66.000000   \n",
       "max           NaN     130.000000      87.000000     100.000000     100.000000   \n",
       "\n",
       "         Pressure9am    Pressure3pm      Cloud9am      Cloud3pm  \\\n",
       "count   130395.00000  130432.000000  89572.000000  86102.000000   \n",
       "unique           NaN            NaN           NaN           NaN   \n",
       "top              NaN            NaN           NaN           NaN   \n",
       "freq             NaN            NaN           NaN           NaN   \n",
       "mean      1017.64994    1015.255889      4.447461      4.509930   \n",
       "std          7.10653       7.037414      2.887159      2.720357   \n",
       "min        980.50000     977.100000      0.000000      0.000000   \n",
       "25%       1012.90000    1010.400000      1.000000      2.000000   \n",
       "50%       1017.60000    1015.200000      5.000000      5.000000   \n",
       "75%       1022.40000    1020.000000      7.000000      7.000000   \n",
       "max       1041.00000    1039.600000      9.000000      9.000000   \n",
       "\n",
       "              Temp9am       Temp3pm RainToday RainTomorrow  \n",
       "count   143693.000000  141851.00000    142199       142193  \n",
       "unique            NaN           NaN         2            2  \n",
       "top               NaN           NaN        No           No  \n",
       "freq              NaN           NaN    110319       110316  \n",
       "mean        16.990631      21.68339       NaN          NaN  \n",
       "std          6.488753       6.93665       NaN          NaN  \n",
       "min         -7.200000      -5.40000       NaN          NaN  \n",
       "25%         12.300000      16.60000       NaN          NaN  \n",
       "50%         16.700000      21.10000       NaN          NaN  \n",
       "75%         21.600000      26.40000       NaN          NaN  \n",
       "max         40.200000      46.70000       NaN          NaN  "
      ]
     },
     "execution_count": 245,
     "metadata": {},
     "output_type": "execute_result"
    }
   ],
   "source": [
    "raw_data.describe(include='all')"
   ]
  },
  {
   "cell_type": "code",
   "execution_count": 246,
   "id": "994ef6b7",
   "metadata": {},
   "outputs": [
    {
     "data": {
      "image/png": "[encoded data removed]",
      "text/plain": [
       "<Figure size 1440x1080 with 16 Axes>"
      ]
     },
     "metadata": {},
     "output_type": "display_data"
    }
   ],
   "source": [
    "raw_data.hist(bins=50, figsize=(20,15))\n",
    "plt.show()"
   ]
  },
  {
   "cell_type": "code",
   "execution_count": 247,
   "id": "251f082c",
   "metadata": {},
   "outputs": [],
   "source": [
    "raw_data['RainTomorrow']=raw_data['RainTomorrow'].map({'No':0, 'Yes':1})\n",
    "raw_data['RainToday']=raw_data['RainToday'].map({'No':0, 'Yes':1})"
   ]
  },
  {
   "cell_type": "code",
   "execution_count": 248,
   "id": "6b41905f",
   "metadata": {},
   "outputs": [
    {
     "data": {
      "text/plain": [
       "Sunshine        -0.450768\n",
       "Pressure9am     -0.246371\n",
       "Pressure3pm     -0.226031\n",
       "Temp3pm         -0.192424\n",
       "MaxTemp         -0.159237\n",
       "Evaporation     -0.119285\n",
       "Temp9am         -0.025691\n",
       "MinTemp          0.083936\n",
       "WindSpeed3pm     0.087817\n",
       "WindSpeed9am     0.090995\n",
       "WindGustSpeed    0.234010\n",
       "Rainfall         0.239032\n",
       "Humidity9am      0.257161\n",
       "RainToday        0.313097\n",
       "Cloud9am         0.317380\n",
       "Cloud3pm         0.381870\n",
       "Humidity3pm      0.446160\n",
       "RainTomorrow     1.000000\n",
       "Name: RainTomorrow, dtype: float64"
      ]
     },
     "execution_count": 248,
     "metadata": {},
     "output_type": "execute_result"
    }
   ],
   "source": [
    "raw_data.corr()['RainTomorrow'].sort_values()"
   ]
  },
  {
   "cell_type": "code",
   "execution_count": 249,
   "id": "f9f50349",
   "metadata": {},
   "outputs": [],
   "source": [
    "AVG_Humidity=(raw_data['Humidity9am']+raw_data['Humidity3pm'])/2\n",
    "raw_data['AVG_Humidity']= AVG_Humidity\n",
    "\n",
    "AVG_WindSpeed=(raw_data['WindSpeed9am']+raw_data['WindSpeed3pm']+raw_data['WindGustSpeed'])/3\n",
    "raw_data['AVG_WindSpeed']= AVG_WindSpeed\n",
    "\n",
    "AVG_Cloud=(raw_data['Cloud9am']+raw_data['Cloud3pm'])/2\n",
    "raw_data['AVG_Cloud']= AVG_Cloud\n",
    "\n",
    "AVG_Temp=(raw_data['Temp3pm']+raw_data['Temp9am'])/2\n",
    "raw_data['AVG_Temp']= AVG_Temp\n",
    "\n",
    "AVG_Pressure=(raw_data['Pressure9am']+raw_data['Pressure3pm'])/2\n",
    "raw_data['AVG_Pressure']= AVG_Pressure\n",
    "\n",
    "raw_data=raw_data.drop(['Humidity9am','Humidity3pm','WindSpeed9am','WindSpeed3pm','WindGustSpeed','Cloud9am',\n",
    "                        'Cloud3pm','Temp3pm','Temp9am','MinTemp','Pressure9am','Pressure3pm','Date','Location'], axis=1)\n",
    "raw_data=raw_data.drop(['WindDir9am', 'WindDir3pm'], axis=1)"
   ]
  },
  {
   "cell_type": "code",
   "execution_count": 250,
   "id": "aaadf36f",
   "metadata": {},
   "outputs": [
    {
     "data": {
      "text/plain": [
       "MaxTemp           1261\n",
       "Rainfall          3261\n",
       "Evaporation      62790\n",
       "Sunshine         69835\n",
       "WindGustDir      10326\n",
       "RainToday         3261\n",
       "RainTomorrow      3267\n",
       "AVG_Humidity      5274\n",
       "AVG_WindSpeed    10857\n",
       "AVG_Cloud        63502\n",
       "AVG_Temp          4247\n",
       "AVG_Pressure     15289\n",
       "dtype: int64"
      ]
     },
     "execution_count": 250,
     "metadata": {},
     "output_type": "execute_result"
    }
   ],
   "source": [
    "raw_data.isna().sum()"
   ]
  },
  {
   "cell_type": "code",
   "execution_count": 251,
   "id": "d2df76a0",
   "metadata": {},
   "outputs": [],
   "source": [
    "for col in raw_data.columns:\n",
    "    if raw_data[col].isna().sum() >0:\n",
    "        m = raw_data[col].dropna().unique()\n",
    "        n=pd.Series(np.random.choice(m , size =raw_data.shape[0]))\n",
    "        raw_data[col] = raw_data[col].fillna(n)"
   ]
  },
  {
   "cell_type": "code",
   "execution_count": 252,
   "id": "40cba37b",
   "metadata": {},
   "outputs": [],
   "source": [
    "q1= raw_data['Rainfall'].quantile(0.99)\n",
    "q2= raw_data['AVG_Pressure'].quantile(0.01)\n",
    "q3= raw_data['AVG_Temp'].quantile(0.01)\n",
    "q4= raw_data['AVG_WindSpeed'].quantile(0.99)\n",
    "q5= raw_data['Evaporation'].quantile(0.99)\n",
    "q6= raw_data['MaxTemp'].quantile(0.01)"
   ]
  },
  {
   "cell_type": "code",
   "execution_count": 253,
   "id": "54d11fea",
   "metadata": {},
   "outputs": [],
   "source": [
    "raw_data= raw_data[raw_data['Rainfall']<q1]\n",
    "raw_data= raw_data[raw_data['AVG_Pressure']>q2]\n",
    "raw_data= raw_data[raw_data['AVG_Temp']>q3]\n",
    "raw_data= raw_data[raw_data['AVG_WindSpeed']<q4]\n",
    "raw_data= raw_data[raw_data['Evaporation']<q5]\n",
    "raw_data= raw_data[raw_data['MaxTemp']>q6]"
   ]
  },
  {
   "cell_type": "code",
   "execution_count": 254,
   "id": "99a773ed",
   "metadata": {},
   "outputs": [
    {
     "data": {
      "text/plain": [
       "(137922, 12)"
      ]
     },
     "execution_count": 254,
     "metadata": {},
     "output_type": "execute_result"
    }
   ],
   "source": [
    "raw_data.shape"
   ]
  },
  {
   "cell_type": "code",
   "execution_count": 255,
   "id": "487a08ba",
   "metadata": {},
   "outputs": [],
   "source": [
    "from sklearn.utils import shuffle\n",
    "shuffled_data = shuffle(raw_data, random_state=42)"
   ]
  },
  {
   "cell_type": "code",
   "execution_count": 256,
   "id": "415af4aa",
   "metadata": {},
   "outputs": [],
   "source": [
    "from sklearn.model_selection import train_test_split\n",
    "train_and_validation_set, test_set = train_test_split(shuffled_data, test_size=0.2, random_state=42)"
   ]
  },
  {
   "cell_type": "code",
   "execution_count": 257,
   "id": "212b4da0",
   "metadata": {},
   "outputs": [],
   "source": [
    "from sklearn.model_selection import train_test_split\n",
    "train_set, validation_set = train_test_split(train_and_validation_set, test_size=0.1, random_state=42)"
   ]
  },
  {
   "cell_type": "code",
   "execution_count": 258,
   "id": "946739c9",
   "metadata": {},
   "outputs": [],
   "source": [
    "x_train= train_set.drop('RainTomorrow', axis= 1)\n",
    "y_train= train_set['RainTomorrow']\n",
    "\n",
    "x_val= validation_set.drop('RainTomorrow', axis= 1)\n",
    "y_val= validation_set['RainTomorrow']\n",
    "\n",
    "x_test= test_set.drop('RainTomorrow', axis= 1)\n",
    "y_test= test_set['RainTomorrow']"
   ]
  },
  {
   "cell_type": "code",
   "execution_count": 259,
   "id": "9c959609",
   "metadata": {},
   "outputs": [],
   "source": [
    "num_columns = x_train.loc[:, x_train.dtypes != object].columns.tolist()\n",
    "cat_columns = x_train.loc[:, x_train.dtypes == object].columns.tolist()"
   ]
  },
  {
   "cell_type": "code",
   "execution_count": 260,
   "id": "4d020f96",
   "metadata": {},
   "outputs": [],
   "source": [
    "from sklearn.preprocessing import StandardScaler\n",
    "from sklearn.preprocessing import OneHotEncoder\n",
    "from sklearn.pipeline import Pipeline\n",
    "from sklearn.compose import ColumnTransformer "
   ]
  },
  {
   "cell_type": "code",
   "execution_count": 261,
   "id": "bdb04247",
   "metadata": {},
   "outputs": [],
   "source": [
    "num_pipeline = Pipeline([\n",
    "                         ('std_scaler', StandardScaler())\n",
    "                        ])\n",
    "\n",
    "cat_pipeline = Pipeline([\n",
    "                        ('one_hot', OneHotEncoder())\n",
    "                        ])"
   ]
  },
  {
   "cell_type": "code",
   "execution_count": 262,
   "id": "ed6d0fb4",
   "metadata": {},
   "outputs": [],
   "source": [
    "column_transformer = ColumnTransformer([\n",
    "                                        ('num_pipeline', num_pipeline, num_columns),\n",
    "                                        ('cat_pipeline', cat_pipeline, cat_columns)\n",
    "                                       ])\n",
    "\n",
    "x_train_prepared = column_transformer.fit_transform(x_train)"
   ]
  },
  {
   "cell_type": "code",
   "execution_count": 263,
   "id": "01082b8d",
   "metadata": {},
   "outputs": [
    {
     "name": "stderr",
     "output_type": "stream",
     "text": [
      "[Parallel(n_jobs=1)]: Using backend SequentialBackend with 1 concurrent workers.\n"
     ]
    },
    {
     "name": "stdout",
     "output_type": "stream",
     "text": [
      "building tree 1 of 30\n"
     ]
    },
    {
     "name": "stderr",
     "output_type": "stream",
     "text": [
      "[Parallel(n_jobs=1)]: Done   1 out of   1 | elapsed:    0.3s remaining:    0.0s\n"
     ]
    },
    {
     "name": "stdout",
     "output_type": "stream",
     "text": [
      "building tree 2 of 30\n",
      "building tree 3 of 30\n",
      "building tree 4 of 30\n",
      "building tree 5 of 30\n",
      "building tree 6 of 30\n",
      "building tree 7 of 30\n",
      "building tree 8 of 30\n",
      "building tree 9 of 30\n",
      "building tree 10 of 30\n",
      "building tree 11 of 30\n",
      "building tree 12 of 30\n",
      "building tree 13 of 30\n",
      "building tree 14 of 30\n",
      "building tree 15 of 30\n",
      "building tree 16 of 30\n",
      "building tree 17 of 30\n",
      "building tree 18 of 30\n",
      "building tree 19 of 30\n",
      "building tree 20 of 30\n",
      "building tree 21 of 30\n",
      "building tree 22 of 30\n",
      "building tree 23 of 30\n",
      "building tree 24 of 30\n",
      "building tree 25 of 30\n",
      "building tree 26 of 30\n",
      "building tree 27 of 30\n",
      "building tree 28 of 30\n",
      "building tree 29 of 30\n",
      "building tree 30 of 30\n"
     ]
    },
    {
     "name": "stderr",
     "output_type": "stream",
     "text": [
      "[Parallel(n_jobs=1)]: Done  30 out of  30 | elapsed:   12.9s finished\n"
     ]
    },
    {
     "data": {
      "text/plain": [
       "RandomForestClassifier(n_estimators=30, verbose=2)"
      ]
     },
     "execution_count": 263,
     "metadata": {},
     "output_type": "execute_result"
    }
   ],
   "source": [
    "from sklearn.ensemble import RandomForestClassifier\n",
    "forest_clf = RandomForestClassifier(n_estimators=30, verbose=2)\n",
    "forest_clf.fit(x_train_prepared,y_train)"
   ]
  },
  {
   "cell_type": "code",
   "execution_count": 264,
   "id": "69747781",
   "metadata": {},
   "outputs": [
    {
     "name": "stderr",
     "output_type": "stream",
     "text": [
      "[Parallel(n_jobs=1)]: Using backend SequentialBackend with 1 concurrent workers.\n",
      "[Parallel(n_jobs=1)]: Done   1 out of   1 | elapsed:    0.0s remaining:    0.0s\n",
      "[Parallel(n_jobs=1)]: Done  30 out of  30 | elapsed:    1.6s finished\n"
     ]
    },
    {
     "data": {
      "text/plain": [
       "0.9984089101034208"
      ]
     },
     "execution_count": 264,
     "metadata": {},
     "output_type": "execute_result"
    }
   ],
   "source": [
    "forest_clf.score(x_train_prepared,y_train)"
   ]
  },
  {
   "cell_type": "code",
   "execution_count": 265,
   "id": "2ed234d3",
   "metadata": {},
   "outputs": [],
   "source": [
    "num_columns = x_val.loc[:, x_val.dtypes != object].columns.tolist()\n",
    "cat_columns = x_val.loc[:, x_val.dtypes == object].columns.tolist()\n",
    "x_val_prepared = column_transformer.fit_transform(x_val)"
   ]
  },
  {
   "cell_type": "code",
   "execution_count": 266,
   "id": "ec61f6ba",
   "metadata": {},
   "outputs": [
    {
     "name": "stderr",
     "output_type": "stream",
     "text": [
      "[Parallel(n_jobs=1)]: Using backend SequentialBackend with 1 concurrent workers.\n",
      "[Parallel(n_jobs=1)]: Done   1 out of   1 | elapsed:    0.0s remaining:    0.0s\n",
      "[Parallel(n_jobs=1)]: Done  30 out of  30 | elapsed:    0.1s finished\n"
     ]
    },
    {
     "data": {
      "text/plain": [
       "0.8309769802428856"
      ]
     },
     "execution_count": 266,
     "metadata": {},
     "output_type": "execute_result"
    }
   ],
   "source": [
    "forest_clf.score(x_val_prepared,y_val)"
   ]
  },
  {
   "cell_type": "code",
   "execution_count": 267,
   "id": "4a5f7c39",
   "metadata": {
    "scrolled": true
   },
   "outputs": [
    {
     "name": "stdout",
     "output_type": "stream",
     "text": [
      "Fitting 3 folds for each of 27 candidates, totalling 81 fits\n",
      "[CV] END ..max_features=4, max_leaf_nodes=3, n_estimators=10; total time=   0.5s\n",
      "[CV] END ..max_features=4, max_leaf_nodes=3, n_estimators=10; total time=   0.6s\n",
      "[CV] END ..max_features=4, max_leaf_nodes=3, n_estimators=10; total time=   0.5s\n",
      "[CV] END ..max_features=4, max_leaf_nodes=3, n_estimators=30; total time=   1.3s\n",
      "[CV] END ..max_features=4, max_leaf_nodes=3, n_estimators=30; total time=   1.4s\n",
      "[CV] END ..max_features=4, max_leaf_nodes=3, n_estimators=30; total time=   1.3s\n",
      "[CV] END ..max_features=4, max_leaf_nodes=3, n_estimators=50; total time=   2.3s\n",
      "[CV] END ..max_features=4, max_leaf_nodes=3, n_estimators=50; total time=   2.4s\n",
      "[CV] END ..max_features=4, max_leaf_nodes=3, n_estimators=50; total time=   2.3s\n",
      "[CV] END ..max_features=4, max_leaf_nodes=5, n_estimators=10; total time=   0.6s\n",
      "[CV] END ..max_features=4, max_leaf_nodes=5, n_estimators=10; total time=   0.6s\n",
      "[CV] END ..max_features=4, max_leaf_nodes=5, n_estimators=10; total time=   0.6s\n",
      "[CV] END ..max_features=4, max_leaf_nodes=5, n_estimators=30; total time=   1.6s\n",
      "[CV] END ..max_features=4, max_leaf_nodes=5, n_estimators=30; total time=   1.8s\n",
      "[CV] END ..max_features=4, max_leaf_nodes=5, n_estimators=30; total time=   1.8s\n",
      "[CV] END ..max_features=4, max_leaf_nodes=5, n_estimators=50; total time=   2.9s\n",
      "[CV] END ..max_features=4, max_leaf_nodes=5, n_estimators=50; total time=   2.9s\n",
      "[CV] END ..max_features=4, max_leaf_nodes=5, n_estimators=50; total time=   2.6s\n",
      "[CV] END ..max_features=4, max_leaf_nodes=7, n_estimators=10; total time=   0.5s\n",
      "[CV] END ..max_features=4, max_leaf_nodes=7, n_estimators=10; total time=   0.5s\n",
      "[CV] END ..max_features=4, max_leaf_nodes=7, n_estimators=10; total time=   0.5s\n",
      "[CV] END ..max_features=4, max_leaf_nodes=7, n_estimators=30; total time=   1.6s\n",
      "[CV] END ..max_features=4, max_leaf_nodes=7, n_estimators=30; total time=   1.6s\n",
      "[CV] END ..max_features=4, max_leaf_nodes=7, n_estimators=30; total time=   1.6s\n",
      "[CV] END ..max_features=4, max_leaf_nodes=7, n_estimators=50; total time=   2.8s\n",
      "[CV] END ..max_features=4, max_leaf_nodes=7, n_estimators=50; total time=   2.8s\n",
      "[CV] END ..max_features=4, max_leaf_nodes=7, n_estimators=50; total time=   2.8s\n",
      "[CV] END ..max_features=6, max_leaf_nodes=3, n_estimators=10; total time=   0.5s\n",
      "[CV] END ..max_features=6, max_leaf_nodes=3, n_estimators=10; total time=   0.6s\n",
      "[CV] END ..max_features=6, max_leaf_nodes=3, n_estimators=10; total time=   0.5s\n",
      "[CV] END ..max_features=6, max_leaf_nodes=3, n_estimators=30; total time=   1.6s\n",
      "[CV] END ..max_features=6, max_leaf_nodes=3, n_estimators=30; total time=   1.6s\n",
      "[CV] END ..max_features=6, max_leaf_nodes=3, n_estimators=30; total time=   2.1s\n",
      "[CV] END ..max_features=6, max_leaf_nodes=3, n_estimators=50; total time=   3.4s\n",
      "[CV] END ..max_features=6, max_leaf_nodes=3, n_estimators=50; total time=   3.3s\n",
      "[CV] END ..max_features=6, max_leaf_nodes=3, n_estimators=50; total time=   3.3s\n",
      "[CV] END ..max_features=6, max_leaf_nodes=5, n_estimators=10; total time=   0.6s\n",
      "[CV] END ..max_features=6, max_leaf_nodes=5, n_estimators=10; total time=   0.7s\n",
      "[CV] END ..max_features=6, max_leaf_nodes=5, n_estimators=10; total time=   0.6s\n",
      "[CV] END ..max_features=6, max_leaf_nodes=5, n_estimators=30; total time=   2.2s\n",
      "[CV] END ..max_features=6, max_leaf_nodes=5, n_estimators=30; total time=   2.2s\n",
      "[CV] END ..max_features=6, max_leaf_nodes=5, n_estimators=30; total time=   2.2s\n",
      "[CV] END ..max_features=6, max_leaf_nodes=5, n_estimators=50; total time=   3.4s\n",
      "[CV] END ..max_features=6, max_leaf_nodes=5, n_estimators=50; total time=   3.6s\n",
      "[CV] END ..max_features=6, max_leaf_nodes=5, n_estimators=50; total time=   3.9s\n",
      "[CV] END ..max_features=6, max_leaf_nodes=7, n_estimators=10; total time=   0.7s\n",
      "[CV] END ..max_features=6, max_leaf_nodes=7, n_estimators=10; total time=   0.8s\n",
      "[CV] END ..max_features=6, max_leaf_nodes=7, n_estimators=10; total time=   0.8s\n",
      "[CV] END ..max_features=6, max_leaf_nodes=7, n_estimators=30; total time=   2.4s\n",
      "[CV] END ..max_features=6, max_leaf_nodes=7, n_estimators=30; total time=   2.5s\n",
      "[CV] END ..max_features=6, max_leaf_nodes=7, n_estimators=30; total time=   2.7s\n",
      "[CV] END ..max_features=6, max_leaf_nodes=7, n_estimators=50; total time=   4.2s\n",
      "[CV] END ..max_features=6, max_leaf_nodes=7, n_estimators=50; total time=   4.0s\n",
      "[CV] END ..max_features=6, max_leaf_nodes=7, n_estimators=50; total time=   4.4s\n",
      "[CV] END ..max_features=8, max_leaf_nodes=3, n_estimators=10; total time=   0.7s\n",
      "[CV] END ..max_features=8, max_leaf_nodes=3, n_estimators=10; total time=   0.7s\n",
      "[CV] END ..max_features=8, max_leaf_nodes=3, n_estimators=10; total time=   0.7s\n",
      "[CV] END ..max_features=8, max_leaf_nodes=3, n_estimators=30; total time=   2.1s\n",
      "[CV] END ..max_features=8, max_leaf_nodes=3, n_estimators=30; total time=   2.3s\n",
      "[CV] END ..max_features=8, max_leaf_nodes=3, n_estimators=30; total time=   2.0s\n",
      "[CV] END ..max_features=8, max_leaf_nodes=3, n_estimators=50; total time=   3.5s\n",
      "[CV] END ..max_features=8, max_leaf_nodes=3, n_estimators=50; total time=   3.4s\n",
      "[CV] END ..max_features=8, max_leaf_nodes=3, n_estimators=50; total time=   3.6s\n",
      "[CV] END ..max_features=8, max_leaf_nodes=5, n_estimators=10; total time=   0.8s\n",
      "[CV] END ..max_features=8, max_leaf_nodes=5, n_estimators=10; total time=   0.9s\n",
      "[CV] END ..max_features=8, max_leaf_nodes=5, n_estimators=10; total time=   0.8s\n",
      "[CV] END ..max_features=8, max_leaf_nodes=5, n_estimators=30; total time=   2.7s\n",
      "[CV] END ..max_features=8, max_leaf_nodes=5, n_estimators=30; total time=   2.8s\n",
      "[CV] END ..max_features=8, max_leaf_nodes=5, n_estimators=30; total time=   2.8s\n",
      "[CV] END ..max_features=8, max_leaf_nodes=5, n_estimators=50; total time=   4.4s\n",
      "[CV] END ..max_features=8, max_leaf_nodes=5, n_estimators=50; total time=   5.0s\n",
      "[CV] END ..max_features=8, max_leaf_nodes=5, n_estimators=50; total time=   4.5s\n",
      "[CV] END ..max_features=8, max_leaf_nodes=7, n_estimators=10; total time=   1.0s\n",
      "[CV] END ..max_features=8, max_leaf_nodes=7, n_estimators=10; total time=   0.9s\n",
      "[CV] END ..max_features=8, max_leaf_nodes=7, n_estimators=10; total time=   1.0s\n",
      "[CV] END ..max_features=8, max_leaf_nodes=7, n_estimators=30; total time=   2.9s\n",
      "[CV] END ..max_features=8, max_leaf_nodes=7, n_estimators=30; total time=   3.1s\n",
      "[CV] END ..max_features=8, max_leaf_nodes=7, n_estimators=30; total time=   3.0s\n",
      "[CV] END ..max_features=8, max_leaf_nodes=7, n_estimators=50; total time=   5.3s\n",
      "[CV] END ..max_features=8, max_leaf_nodes=7, n_estimators=50; total time=   5.0s\n",
      "[CV] END ..max_features=8, max_leaf_nodes=7, n_estimators=50; total time=   4.8s\n"
     ]
    },
    {
     "data": {
      "text/plain": [
       "GridSearchCV(cv=3, estimator=RandomForestClassifier(),\n",
       "             param_grid=[{'max_features': [4, 6, 8],\n",
       "                          'max_leaf_nodes': [3, 5, 7],\n",
       "                          'n_estimators': [10, 30, 50]}],\n",
       "             return_train_score=True, verbose=2)"
      ]
     },
     "execution_count": 267,
     "metadata": {},
     "output_type": "execute_result"
    }
   ],
   "source": [
    "from sklearn.model_selection import GridSearchCV\n",
    "param_grid = [\n",
    "              {'n_estimators': [10, 30, 50], 'max_features': [4, 6, 8], 'max_leaf_nodes': [3, 5, 7]}\n",
    "             ]\n",
    "grid_search = GridSearchCV(RandomForestClassifier(), param_grid, cv=3, return_train_score=True, verbose=2)\n",
    "grid_search.fit(x_train_prepared, y_train)"
   ]
  },
  {
   "cell_type": "code",
   "execution_count": 268,
   "id": "bc9cd2c6",
   "metadata": {},
   "outputs": [
    {
     "data": {
      "text/plain": [
       "{'max_features': 8, 'max_leaf_nodes': 7, 'n_estimators': 30}"
      ]
     },
     "execution_count": 268,
     "metadata": {},
     "output_type": "execute_result"
    }
   ],
   "source": [
    "grid_search.best_params_"
   ]
  },
  {
   "cell_type": "code",
   "execution_count": 276,
   "id": "21ca7fab",
   "metadata": {},
   "outputs": [
    {
     "name": "stderr",
     "output_type": "stream",
     "text": [
      "[Parallel(n_jobs=1)]: Using backend SequentialBackend with 1 concurrent workers.\n",
      "[Parallel(n_jobs=1)]: Done   1 out of   1 | elapsed:    0.1s remaining:    0.0s\n"
     ]
    },
    {
     "name": "stdout",
     "output_type": "stream",
     "text": [
      "building tree 1 of 30\n",
      "building tree 2 of 30\n",
      "building tree 3 of 30\n",
      "building tree 4 of 30\n",
      "building tree 5 of 30\n",
      "building tree 6 of 30\n",
      "building tree 7 of 30\n",
      "building tree 8 of 30\n",
      "building tree 9 of 30\n",
      "building tree 10 of 30\n",
      "building tree 11 of 30\n",
      "building tree 12 of 30\n",
      "building tree 13 of 30\n",
      "building tree 14 of 30\n",
      "building tree 15 of 30\n",
      "building tree 16 of 30\n",
      "building tree 17 of 30\n",
      "building tree 18 of 30\n",
      "building tree 19 of 30\n",
      "building tree 20 of 30\n",
      "building tree 21 of 30\n",
      "building tree 22 of 30\n",
      "building tree 23 of 30\n",
      "building tree 24 of 30\n",
      "building tree 25 of 30\n",
      "building tree 26 of 30\n",
      "building tree 27 of 30\n",
      "building tree 28 of 30\n",
      "building tree 29 of 30\n",
      "building tree 30 of 30\n"
     ]
    },
    {
     "name": "stderr",
     "output_type": "stream",
     "text": [
      "[Parallel(n_jobs=1)]: Done  30 out of  30 | elapsed:    4.7s finished\n"
     ]
    },
    {
     "data": {
      "text/plain": [
       "RandomForestClassifier(max_features=8, max_leaf_nodes=7, n_estimators=30,\n",
       "                       verbose=2)"
      ]
     },
     "execution_count": 276,
     "metadata": {},
     "output_type": "execute_result"
    }
   ],
   "source": [
    "final_clf = RandomForestClassifier(max_features= 8, max_leaf_nodes= 7, n_estimators= 30, verbose=2)\n",
    "final_clf.fit(x_train_prepared,y_train)"
   ]
  },
  {
   "cell_type": "code",
   "execution_count": 277,
   "id": "0b15914c",
   "metadata": {},
   "outputs": [
    {
     "name": "stderr",
     "output_type": "stream",
     "text": [
      "[Parallel(n_jobs=1)]: Using backend SequentialBackend with 1 concurrent workers.\n",
      "[Parallel(n_jobs=1)]: Done   1 out of   1 | elapsed:    0.0s remaining:    0.0s\n",
      "[Parallel(n_jobs=1)]: Done  30 out of  30 | elapsed:    0.4s finished\n"
     ]
    },
    {
     "data": {
      "text/plain": [
       "0.8127851122322588"
      ]
     },
     "execution_count": 277,
     "metadata": {},
     "output_type": "execute_result"
    }
   ],
   "source": [
    "final_clf.score(x_train_prepared,y_train)"
   ]
  },
  {
   "cell_type": "code",
   "execution_count": 278,
   "id": "8766fbb3",
   "metadata": {},
   "outputs": [
    {
     "name": "stderr",
     "output_type": "stream",
     "text": [
      "[Parallel(n_jobs=1)]: Using backend SequentialBackend with 1 concurrent workers.\n",
      "[Parallel(n_jobs=1)]: Done   1 out of   1 | elapsed:    0.0s remaining:    0.0s\n",
      "[Parallel(n_jobs=1)]: Done  30 out of  30 | elapsed:    0.0s finished\n"
     ]
    },
    {
     "data": {
      "text/plain": [
       "0.8129418162044589"
      ]
     },
     "execution_count": 278,
     "metadata": {},
     "output_type": "execute_result"
    }
   ],
   "source": [
    "final_clf.score(x_val_prepared,y_val)"
   ]
  },
  {
   "cell_type": "code",
   "execution_count": 272,
   "id": "949a5204",
   "metadata": {},
   "outputs": [],
   "source": [
    "num_columns = x_val.loc[:, x_val.dtypes != object].columns.tolist()\n",
    "cat_columns = x_val.loc[:, x_val.dtypes == object].columns.tolist()\n",
    "x_test_prepared = column_transformer.fit_transform(x_test)"
   ]
  },
  {
   "cell_type": "code",
   "execution_count": 273,
   "id": "268ecad0",
   "metadata": {},
   "outputs": [
    {
     "name": "stderr",
     "output_type": "stream",
     "text": [
      "[Parallel(n_jobs=1)]: Using backend SequentialBackend with 1 concurrent workers.\n",
      "[Parallel(n_jobs=1)]: Done   1 out of   1 | elapsed:    0.0s remaining:    0.0s\n",
      "[Parallel(n_jobs=1)]: Done  30 out of  30 | elapsed:    0.4s finished\n"
     ]
    },
    {
     "data": {
      "text/plain": [
       "0.8272611926771797"
      ]
     },
     "execution_count": 273,
     "metadata": {},
     "output_type": "execute_result"
    }
   ],
   "source": [
    "forest_clf.score(x_test_prepared,y_test)"
   ]
  },
  {
   "cell_type": "code",
   "execution_count": 279,
   "id": "7bc997a7",
   "metadata": {},
   "outputs": [
    {
     "name": "stderr",
     "output_type": "stream",
     "text": [
      "[Parallel(n_jobs=1)]: Using backend SequentialBackend with 1 concurrent workers.\n",
      "[Parallel(n_jobs=1)]: Done   1 out of   1 | elapsed:    0.0s remaining:    0.0s\n",
      "[Parallel(n_jobs=1)]: Done  30 out of  30 | elapsed:    0.0s finished\n"
     ]
    },
    {
     "data": {
      "text/plain": [
       "0.810984230560087"
      ]
     },
     "execution_count": 279,
     "metadata": {},
     "output_type": "execute_result"
    }
   ],
   "source": [
    "final_clf.score(x_test_prepared,y_test)"
   ]
  },
  {
   "cell_type": "code",
   "execution_count": null,
   "id": "1ac6e604",
   "metadata": {},
   "outputs": [],
   "source": []
  },
  {
   "cell_type": "code",
   "execution_count": null,
   "id": "73db5919",
   "metadata": {},
   "outputs": [],
   "source": []
  },
  {
   "cell_type": "code",
   "execution_count": null,
   "id": "6e991f0d",
   "metadata": {},
   "outputs": [],
   "source": []
  },
  {
   "cell_type": "code",
   "execution_count": null,
   "id": "0fb14ef6",
   "metadata": {},
   "outputs": [],
   "source": []
  }
 ],
 "metadata": {
  "kernelspec": {
   "display_name": "Python 3",
   "language": "python",
   "name": "python3"
  },
  "language_info": {
   "codemirror_mode": {
    "name": "ipython",
    "version": 3
   },
   "file_extension": ".py",
   "mimetype": "text/x-python",
   "name": "python",
   "nbconvert_exporter": "python",
   "pygments_lexer": "ipython3",
   "version": "3.8.8"
  }
 },
 "nbformat": 4,
 "nbformat_minor": 5
}
